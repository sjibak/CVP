{
 "cells": [
  {
   "cell_type": "markdown",
   "id": "c1844489-28ff-4a8f-a6eb-f5f793304c9d",
   "metadata": {
    "jp-MarkdownHeadingCollapsed": true
   },
   "source": [
    "## Training (Use `train.py` instead)"
   ]
  },
  {
   "cell_type": "code",
   "execution_count": null,
   "id": "f18cb415-7f1e-4359-89e9-e863684cd533",
   "metadata": {},
   "outputs": [],
   "source": [
    "import torch\n",
    "import torch.nn as nn\n",
    "import torch.optim as optim\n",
    "from torch.utils.data import DataLoader\n",
    "from tqdm import tqdm\n",
    "# from model import UNetPixelwiseRegression\n",
    "from unet import UNET\n",
    "from dataset import CVPDataset\n",
    "from utils import (\n",
    "    load_checkpoint,\n",
    "    save_checkpoint,\n",
    "    get_loaders,\n",
    "    check_accuracy,\n",
    "    save_prediction_as_imgs\n",
    ")"
   ]
  },
  {
   "cell_type": "code",
   "execution_count": 2,
   "id": "7ffb046b-c1b8-41c3-aa63-13c57b5a911f",
   "metadata": {},
   "outputs": [],
   "source": [
    "# Hyperparameters\n",
    "LEARNING_RATE = 1e-4\n",
    "DEVICE = torch.device('cuda:0' if torch.cuda.is_available() else 'cpu')\n",
    "BATCH_SIZE = 16\n",
    "NUM_EPOCHS = 30\n",
    "NUM_WORKERS = 2\n",
    "IMAGE_HEIGHT = 512\n",
    "IMAGE_WIDTH = 512\n",
    "PIN_MEMORY = True\n",
    "LOAD_MODEL = True\n",
    "TRAIN_IMG_DIR = \"data/train_img_dir/\"\n",
    "TRAIN_GT_DIR = \"data/train_gt_dir/\"\n",
    "VAL_IMG_DIR = \"data/val_img_dir/\"\n",
    "VAL_GT_DIR = \"data/val_gt_dir\"\n",
    "MODEL_STATE_DIR = \"model_state/\"\n",
    "PRED_IMG_DIR = \"saved_images/\" "
   ]
  },
  {
   "cell_type": "code",
   "execution_count": 3,
   "id": "765ebf89-c32f-4b64-9333-35ae9699c15e",
   "metadata": {},
   "outputs": [],
   "source": [
    "def train_func(loader, model, optimizer, loss_fn, scaler):\n",
    "    loop = tqdm(loader)\n",
    "    # model = model.float()\n",
    "    # model.to(device=DEVICE)\n",
    "    for batch_idx, (data, targets) in enumerate(loop):\n",
    "        data = data.to(device=DEVICE)\n",
    "        # print(DEVICE)\n",
    "        targets = targets.unsqueeze(1).to(device=DEVICE)\n",
    "\n",
    "        #forward\n",
    "        with torch.cuda.amp.autocast():\n",
    "            predictions = model(data.float())\n",
    "            loss = loss_fn(predictions, targets)\n",
    "\n",
    "        #backward\n",
    "        \n",
    "        optimizer.zero_grad()\n",
    "        scaler.scale(loss).backward()\n",
    "        scaler.step(optimizer)\n",
    "        scaler.update()\n",
    "\n",
    "\n",
    "        loop.set_postfix(loss=loss.item())\n",
    "\n",
    "\n",
    "def train_main():\n",
    "    model = UNET(in_channels=1, out_channels=1).to(DEVICE)\n",
    "    loss_fn = nn.MSELoss()\n",
    "    optimizer = optim.Adam(model.parameters(), lr=LEARNING_RATE)\n",
    "\n",
    "    train_loader, val_loader = get_loaders(\n",
    "        TRAIN_IMG_DIR,\n",
    "        TRAIN_GT_DIR,\n",
    "        VAL_IMG_DIR,\n",
    "        VAL_GT_DIR,\n",
    "        BATCH_SIZE\n",
    "    )\n",
    "\n",
    "    scaler = torch.cuda.amp.GradScaler()\n",
    "    for epoch in range(NUM_EPOCHS):\n",
    "        train_func(train_loader, model, optimizer, loss_fn, scaler)\n",
    "\n",
    "        #save model\n",
    "        checkpoint = {\n",
    "            \"state_dict\": model.state_dict(),\n",
    "            \"optimizer\": optimizer.state_dict()\n",
    "        }\n",
    "        save_checkpoint(checkpoint, epoch, folder=MODEL_STATE_DIR)\n",
    "\n",
    "        #check accuracy\n",
    "        check_accuracy(val_loader, model, device=DEVICE)\n",
    "\n",
    "        save_prediction_as_imgs(\n",
    "            val_loader,model,folder=PRED_IMG_DIR,device=DEVICE\n",
    "        )"
   ]
  },
  {
   "cell_type": "code",
   "execution_count": 4,
   "id": "981ee37f-7ca1-4243-98ef-d5a22f9530cd",
   "metadata": {},
   "outputs": [
    {
     "name": "stderr",
     "output_type": "stream",
     "text": [
      "  0%|          | 0/282 [00:00<?, ?it/s]/usr/local/lib/python3.11/dist-packages/torch/nn/modules/loss.py:535: UserWarning: Using a target size (torch.Size([16, 1, 1, 512, 512])) that is different to the input size (torch.Size([16, 1, 512, 512])). This will likely lead to incorrect results due to broadcasting. Please ensure they have the same size.\n",
      "  return F.mse_loss(input, target, reduction=self.reduction)\n",
      "100%|█████████▉| 281/282 [02:16<00:00,  2.07it/s, loss=0.0216]/usr/local/lib/python3.11/dist-packages/torch/nn/modules/loss.py:535: UserWarning: Using a target size (torch.Size([4, 1, 1, 512, 512])) that is different to the input size (torch.Size([4, 1, 512, 512])). This will likely lead to incorrect results due to broadcasting. Please ensure they have the same size.\n",
      "  return F.mse_loss(input, target, reduction=self.reduction)\n",
      "100%|██████████| 282/282 [02:16<00:00,  2.06it/s, loss=0.0288]\n"
     ]
    },
    {
     "name": "stdout",
     "output_type": "stream",
     "text": [
      "--> Saving Checkpoint to model_state/my_checkpoint_0.pth.tar\n",
      "MSE : 0.016022847965359688\n"
     ]
    },
    {
     "name": "stderr",
     "output_type": "stream",
     "text": [
      "100%|██████████| 282/282 [02:16<00:00,  2.07it/s, loss=0.0141]\n"
     ]
    },
    {
     "name": "stdout",
     "output_type": "stream",
     "text": [
      "--> Saving Checkpoint to model_state/my_checkpoint_1.pth.tar\n",
      "MSE : 0.01596893183887005\n"
     ]
    },
    {
     "name": "stderr",
     "output_type": "stream",
     "text": [
      "100%|██████████| 282/282 [02:16<00:00,  2.07it/s, loss=0.0152]\n"
     ]
    },
    {
     "name": "stdout",
     "output_type": "stream",
     "text": [
      "--> Saving Checkpoint to model_state/my_checkpoint_2.pth.tar\n",
      "MSE : 0.03425037860870361\n"
     ]
    },
    {
     "name": "stderr",
     "output_type": "stream",
     "text": [
      "100%|██████████| 282/282 [02:16<00:00,  2.07it/s, loss=0.0168]\n"
     ]
    },
    {
     "name": "stdout",
     "output_type": "stream",
     "text": [
      "--> Saving Checkpoint to model_state/my_checkpoint_3.pth.tar\n",
      "MSE : 0.01969018019735813\n"
     ]
    },
    {
     "name": "stderr",
     "output_type": "stream",
     "text": [
      "100%|██████████| 282/282 [02:16<00:00,  2.07it/s, loss=0.0232]\n"
     ]
    },
    {
     "name": "stdout",
     "output_type": "stream",
     "text": [
      "--> Saving Checkpoint to model_state/my_checkpoint_4.pth.tar\n",
      "MSE : 0.018109049648046494\n"
     ]
    },
    {
     "name": "stderr",
     "output_type": "stream",
     "text": [
      "100%|██████████| 282/282 [02:16<00:00,  2.06it/s, loss=0.019] \n"
     ]
    },
    {
     "name": "stdout",
     "output_type": "stream",
     "text": [
      "--> Saving Checkpoint to model_state/my_checkpoint_5.pth.tar\n",
      "MSE : 0.017298229038715363\n"
     ]
    },
    {
     "name": "stderr",
     "output_type": "stream",
     "text": [
      "100%|██████████| 282/282 [02:16<00:00,  2.06it/s, loss=0.0195]\n"
     ]
    },
    {
     "name": "stdout",
     "output_type": "stream",
     "text": [
      "--> Saving Checkpoint to model_state/my_checkpoint_6.pth.tar\n",
      "MSE : 0.01917525753378868\n"
     ]
    },
    {
     "name": "stderr",
     "output_type": "stream",
     "text": [
      "100%|██████████| 282/282 [02:16<00:00,  2.06it/s, loss=0.0217]\n"
     ]
    },
    {
     "name": "stdout",
     "output_type": "stream",
     "text": [
      "--> Saving Checkpoint to model_state/my_checkpoint_7.pth.tar\n",
      "MSE : 0.018295111134648323\n"
     ]
    },
    {
     "name": "stderr",
     "output_type": "stream",
     "text": [
      "100%|██████████| 282/282 [02:16<00:00,  2.06it/s, loss=0.0132]\n"
     ]
    },
    {
     "name": "stdout",
     "output_type": "stream",
     "text": [
      "--> Saving Checkpoint to model_state/my_checkpoint_8.pth.tar\n",
      "MSE : 0.01791321486234665\n"
     ]
    },
    {
     "name": "stderr",
     "output_type": "stream",
     "text": [
      "100%|██████████| 282/282 [02:16<00:00,  2.06it/s, loss=0.0214]\n"
     ]
    },
    {
     "name": "stdout",
     "output_type": "stream",
     "text": [
      "--> Saving Checkpoint to model_state/my_checkpoint_9.pth.tar\n",
      "MSE : 0.0864265188574791\n"
     ]
    },
    {
     "name": "stderr",
     "output_type": "stream",
     "text": [
      "100%|██████████| 282/282 [02:16<00:00,  2.06it/s, loss=0.0161]\n"
     ]
    },
    {
     "name": "stdout",
     "output_type": "stream",
     "text": [
      "--> Saving Checkpoint to model_state/my_checkpoint_10.pth.tar\n",
      "MSE : 0.02025061659514904\n"
     ]
    },
    {
     "name": "stderr",
     "output_type": "stream",
     "text": [
      "100%|██████████| 282/282 [02:16<00:00,  2.06it/s, loss=0.0236]\n"
     ]
    },
    {
     "name": "stdout",
     "output_type": "stream",
     "text": [
      "--> Saving Checkpoint to model_state/my_checkpoint_11.pth.tar\n",
      "MSE : 0.016911491751670837\n"
     ]
    },
    {
     "name": "stderr",
     "output_type": "stream",
     "text": [
      "100%|██████████| 282/282 [02:16<00:00,  2.06it/s, loss=0.0232]\n"
     ]
    },
    {
     "name": "stdout",
     "output_type": "stream",
     "text": [
      "--> Saving Checkpoint to model_state/my_checkpoint_12.pth.tar\n",
      "MSE : 0.0168765801936388\n"
     ]
    },
    {
     "name": "stderr",
     "output_type": "stream",
     "text": [
      "100%|██████████| 282/282 [02:16<00:00,  2.06it/s, loss=0.0167]\n"
     ]
    },
    {
     "name": "stdout",
     "output_type": "stream",
     "text": [
      "--> Saving Checkpoint to model_state/my_checkpoint_13.pth.tar\n",
      "MSE : 0.020481720566749573\n"
     ]
    },
    {
     "name": "stderr",
     "output_type": "stream",
     "text": [
      "100%|██████████| 282/282 [02:16<00:00,  2.06it/s, loss=0.0213]\n"
     ]
    },
    {
     "name": "stdout",
     "output_type": "stream",
     "text": [
      "--> Saving Checkpoint to model_state/my_checkpoint_14.pth.tar\n",
      "MSE : 0.03718925639986992\n"
     ]
    },
    {
     "name": "stderr",
     "output_type": "stream",
     "text": [
      "100%|██████████| 282/282 [02:17<00:00,  2.06it/s, loss=0.0209]\n"
     ]
    },
    {
     "name": "stdout",
     "output_type": "stream",
     "text": [
      "--> Saving Checkpoint to model_state/my_checkpoint_15.pth.tar\n",
      "MSE : 0.016967197880148888\n"
     ]
    },
    {
     "name": "stderr",
     "output_type": "stream",
     "text": [
      "100%|██████████| 282/282 [02:16<00:00,  2.06it/s, loss=0.0192]\n"
     ]
    },
    {
     "name": "stdout",
     "output_type": "stream",
     "text": [
      "--> Saving Checkpoint to model_state/my_checkpoint_16.pth.tar\n",
      "MSE : 0.01764799654483795\n"
     ]
    },
    {
     "name": "stderr",
     "output_type": "stream",
     "text": [
      "100%|██████████| 282/282 [02:17<00:00,  2.05it/s, loss=0.0252]\n"
     ]
    },
    {
     "name": "stdout",
     "output_type": "stream",
     "text": [
      "--> Saving Checkpoint to model_state/my_checkpoint_17.pth.tar\n",
      "MSE : 0.02201499603688717\n"
     ]
    },
    {
     "name": "stderr",
     "output_type": "stream",
     "text": [
      "100%|██████████| 282/282 [02:16<00:00,  2.06it/s, loss=0.0228]\n"
     ]
    },
    {
     "name": "stdout",
     "output_type": "stream",
     "text": [
      "--> Saving Checkpoint to model_state/my_checkpoint_18.pth.tar\n",
      "MSE : 0.03325904533267021\n"
     ]
    },
    {
     "name": "stderr",
     "output_type": "stream",
     "text": [
      "100%|██████████| 282/282 [02:16<00:00,  2.06it/s, loss=0.021] \n"
     ]
    },
    {
     "name": "stdout",
     "output_type": "stream",
     "text": [
      "--> Saving Checkpoint to model_state/my_checkpoint_19.pth.tar\n",
      "MSE : 0.0174039788544178\n"
     ]
    },
    {
     "name": "stderr",
     "output_type": "stream",
     "text": [
      "100%|██████████| 282/282 [02:16<00:00,  2.06it/s, loss=0.0191]\n"
     ]
    },
    {
     "name": "stdout",
     "output_type": "stream",
     "text": [
      "--> Saving Checkpoint to model_state/my_checkpoint_20.pth.tar\n",
      "MSE : 0.04671843722462654\n"
     ]
    },
    {
     "name": "stderr",
     "output_type": "stream",
     "text": [
      "100%|██████████| 282/282 [02:16<00:00,  2.06it/s, loss=0.0278]\n"
     ]
    },
    {
     "name": "stdout",
     "output_type": "stream",
     "text": [
      "--> Saving Checkpoint to model_state/my_checkpoint_21.pth.tar\n",
      "MSE : 0.016453074291348457\n"
     ]
    },
    {
     "name": "stderr",
     "output_type": "stream",
     "text": [
      "100%|██████████| 282/282 [02:16<00:00,  2.06it/s, loss=0.0232]\n"
     ]
    },
    {
     "name": "stdout",
     "output_type": "stream",
     "text": [
      "--> Saving Checkpoint to model_state/my_checkpoint_22.pth.tar\n",
      "MSE : 0.021604396402835846\n"
     ]
    },
    {
     "name": "stderr",
     "output_type": "stream",
     "text": [
      "100%|██████████| 282/282 [02:16<00:00,  2.06it/s, loss=0.0254]\n"
     ]
    },
    {
     "name": "stdout",
     "output_type": "stream",
     "text": [
      "--> Saving Checkpoint to model_state/my_checkpoint_23.pth.tar\n",
      "MSE : 0.020662948489189148\n"
     ]
    },
    {
     "name": "stderr",
     "output_type": "stream",
     "text": [
      "100%|██████████| 282/282 [02:16<00:00,  2.06it/s, loss=0.0309]\n"
     ]
    },
    {
     "name": "stdout",
     "output_type": "stream",
     "text": [
      "--> Saving Checkpoint to model_state/my_checkpoint_24.pth.tar\n",
      "MSE : 0.019710687920451164\n"
     ]
    },
    {
     "name": "stderr",
     "output_type": "stream",
     "text": [
      "100%|██████████| 282/282 [02:16<00:00,  2.06it/s, loss=0.0226]\n"
     ]
    },
    {
     "name": "stdout",
     "output_type": "stream",
     "text": [
      "--> Saving Checkpoint to model_state/my_checkpoint_25.pth.tar\n",
      "MSE : 0.01786991022527218\n"
     ]
    },
    {
     "name": "stderr",
     "output_type": "stream",
     "text": [
      "100%|██████████| 282/282 [02:16<00:00,  2.06it/s, loss=0.0241]\n"
     ]
    },
    {
     "name": "stdout",
     "output_type": "stream",
     "text": [
      "--> Saving Checkpoint to model_state/my_checkpoint_26.pth.tar\n",
      "MSE : 0.019691675901412964\n"
     ]
    },
    {
     "name": "stderr",
     "output_type": "stream",
     "text": [
      "100%|██████████| 282/282 [02:16<00:00,  2.06it/s, loss=0.0263]\n"
     ]
    },
    {
     "name": "stdout",
     "output_type": "stream",
     "text": [
      "--> Saving Checkpoint to model_state/my_checkpoint_27.pth.tar\n",
      "MSE : 0.022615650668740273\n"
     ]
    },
    {
     "name": "stderr",
     "output_type": "stream",
     "text": [
      "100%|██████████| 282/282 [02:16<00:00,  2.06it/s, loss=0.0207]\n"
     ]
    },
    {
     "name": "stdout",
     "output_type": "stream",
     "text": [
      "--> Saving Checkpoint to model_state/my_checkpoint_28.pth.tar\n",
      "MSE : 0.02041942998766899\n"
     ]
    },
    {
     "name": "stderr",
     "output_type": "stream",
     "text": [
      "100%|██████████| 282/282 [02:16<00:00,  2.06it/s, loss=0.0251]\n"
     ]
    },
    {
     "name": "stdout",
     "output_type": "stream",
     "text": [
      "--> Saving Checkpoint to model_state/my_checkpoint_29.pth.tar\n",
      "MSE : 0.01833396963775158\n"
     ]
    }
   ],
   "source": [
    "train_main()"
   ]
  },
  {
   "cell_type": "code",
   "execution_count": 11,
   "id": "9cb21ae8-da51-4e1a-aa30-2bedae8eadd2",
   "metadata": {},
   "outputs": [],
   "source": [
    "import torch\n",
    "\n",
    "# Assuming you have a CUDA device\n",
    "cuda_device = torch.device('cuda:0')\n",
    "\n",
    "# Clear CUDA memory\n",
    "torch.cuda.empty_cache()"
   ]
  },
  {
   "cell_type": "markdown",
   "id": "e4820ce6-0990-4cca-97f0-a23200afb74f",
   "metadata": {},
   "source": [
    "## Evaluation"
   ]
  },
  {
   "cell_type": "code",
   "execution_count": 1,
   "id": "93101479-4a52-4230-8092-613ea66a41be",
   "metadata": {},
   "outputs": [],
   "source": [
    "from utils import load_checkpoint\n",
    "from unet import UNET\n",
    "import torch\n",
    "import numpy as np\n",
    "from PIL import Image\n",
    "from matplotlib import pyplot as plt\n",
    "from PIL import Image\n",
    "import os"
   ]
  },
  {
   "cell_type": "code",
   "execution_count": 2,
   "id": "1707e5d4-4c77-40c3-a361-5e5c23d0a0ea",
   "metadata": {},
   "outputs": [],
   "source": [
    "test_model = UNET()\n",
    "# test_model2 = UNET()"
   ]
  },
  {
   "cell_type": "code",
   "execution_count": 3,
   "id": "f49601e5-35f1-44e8-a56c-48084dc9eac5",
   "metadata": {},
   "outputs": [],
   "source": [
    "checkpoint_abs_path1 = \"model_state/checkpoint_47_least_val_loss.pth.tar\"\n"
   ]
  },
  {
   "cell_type": "code",
   "execution_count": 4,
   "id": "2ac92ce0-fe2f-4a13-a4fe-24a0f8f514b8",
   "metadata": {},
   "outputs": [
    {
     "name": "stdout",
     "output_type": "stream",
     "text": [
      "--> Loading Checkpoint\n",
      "Loading Complete\n"
     ]
    }
   ],
   "source": [
    "if torch.cuda.is_available():\n",
    "    load_checkpoint(torch.load(checkpoint_abs_path1), test_model)\n",
    "    # load_checkpoint(torch.load(checkpoint_abs_path2), test_model2)\n",
    "else:\n",
    "    load_checkpoint(torch.load(checkpoint_abs_path1,\n",
    "                           map_location=torch.device('cpu')), test_model)\n",
    "    # load_checkpoint(torch.load(checkpoint_abs_path2,\n",
    "    #                            map_location=torch.device('cpu')), test_model2)"
   ]
  },
  {
   "cell_type": "code",
   "execution_count": 8,
   "id": "ce335537-9273-4bd3-b454-3479c05831bb",
   "metadata": {},
   "outputs": [],
   "source": [
    "def get_test_predictions(test_folder):\n",
    "    subdirs = [file for file in os.listdir(test_folder)]\n",
    "    for subrdir in subdirs:\n",
    "        subdir_path = os.path.join(test_folder,subrdir) \n",
    "        if os.path.isdir(subdir_path):\n",
    "            for file in os.listdir(subdir_path):\n",
    "                if file.endswith(\".png\"):\n",
    "                    file_path = os.path.join(subdir_path, file)\n",
    "                    image = np.array(Image.open(file_path).convert(\"L\"))\n",
    "                    image = image/255\n",
    "                    image = np.reshape(image,(1,1,) + image.shape)\n",
    "                    img_tensor = torch.from_numpy(image)\n",
    "                    print(f\"--> Getting Prediction for file {file_path} ...\")\n",
    "                    pred1 = test_model(img_tensor.float()).detach().numpy()\n",
    "                    img_arr = pred1[0,0,:,:]\n",
    "                    # pred2 = test_model2(img_tensor.float()).detach().numpy()\n",
    "                    dest_subdir = subdir_path.replace(\"test\",\"test_preds\")\n",
    "                    if not os.path.exists(dest_subdir):\n",
    "                        os.makedirs(dest_subdir)\n",
    "                    dest_path=os.path.join(dest_subdir,file)\n",
    "                    img_scaled = (img_arr * 255).astype(np.uint8)\n",
    "                    out_img = Image.fromarray(img_scaled)\n",
    "                    print(f\"--> Saving Image {dest_path}...\")\n",
    "                    out_img.save(dest_path)\n"
   ]
  },
  {
   "cell_type": "code",
   "execution_count": null,
   "id": "4f96ffab-cd98-4a83-a774-194b6eab4417",
   "metadata": {},
   "outputs": [],
   "source": [
    "get_test_predictions('data/test/')"
   ]
  },
  {
   "cell_type": "code",
   "execution_count": 20,
   "id": "348db5ac-c9ee-477a-afe9-fa98efb2b71b",
   "metadata": {},
   "outputs": [],
   "source": [
    "def get_masks(image, threshold):\n",
    "    img_arr = np.array(Image.open(image).convert(\"L\"))\n",
    "    return (img_arr > threshold).astype((np.uint8))\n",
    "\n",
    "def load_mask(file_path):\n",
    "    mask = np.array(Image.open(file_path))\n",
    "    return mask.astype(np.uint8)"
   ]
  },
  {
   "cell_type": "code",
   "execution_count": 46,
   "id": "956c0ff0-abc6-4e89-98c5-1c95f4bb703f",
   "metadata": {},
   "outputs": [],
   "source": [
    "\n",
    "def dice_score(mask1, mask2):\n",
    "    intersection = np.sum(mask1 * mask2)\n",
    "    total = np.sum(mask1) + np.sum(mask2)\n",
    "    dice = (2 * intersection) / (total + 1e-6)  \n",
    "    dice = np.clip(dice, 0, 1) \n",
    "    return dice\n",
    "\n",
    "def iou_score(mask1, mask2):\n",
    "    intersection = np.logical_and(mask1, mask2)\n",
    "    union = np.logical_or(mask1, mask2)\n",
    "    iou_score = np.sum(intersection) / np.sum(union)\n",
    "    return iou_score"
   ]
  },
  {
   "cell_type": "code",
   "execution_count": 66,
   "id": "97dc5edf-0429-416b-88a2-ad5c2bb49cae",
   "metadata": {},
   "outputs": [],
   "source": [
    "\n",
    "\n",
    "def tune_threshold(gt_mask_dir, lower=60, upper=180, step=4):\n",
    "    iou_tracker = {}\n",
    "    for threshold in range(lower, upper+1, step):\n",
    "        cum_iou = 0\n",
    "        cnt = 0\n",
    "        subdirs = [file for file in os.listdir(gt_mask_dir)]\n",
    "        for subrdir in subdirs:\n",
    "            subdir_path = os.path.join(gt_mask_dir,subrdir) \n",
    "            if os.path.isdir(subdir_path):\n",
    "                for file in os.listdir(subdir_path):\n",
    "                    if file.endswith(\".png\"):\n",
    "                        file_path = os.path.join(subdir_path, file)\n",
    "                        gt_mask = load_mask(file_path)\n",
    "                        pred_mask = get_masks(file_path.replace(\"masks\",\"test_preds\"),\n",
    "                                              threshold)\n",
    "                        iou = iou_score(gt_mask, pred_mask)\n",
    "                        cum_iou += iou\n",
    "                        cnt += 1\n",
    "            avg_iou = cum_iou/cnt\n",
    "        iou_tracker[threshold] = avg_iou\n",
    "    return iou_tracker\n",
    "        \n",
    "            \n",
    "tracker1 = tune_threshold('data/masks/')"
   ]
  },
  {
   "cell_type": "code",
   "execution_count": 67,
   "id": "e6894010-eaf5-4d2a-9729-ad88526dd832",
   "metadata": {},
   "outputs": [],
   "source": [
    "tracker1_1 = tune_threshold('data/masks/', lower=65, upper=85, step=1)"
   ]
  },
  {
   "cell_type": "code",
   "execution_count": 99,
   "id": "2c7cf042-3a8c-452d-85a0-c388272abad7",
   "metadata": {},
   "outputs": [
    {
     "data": {
      "image/png": "[encoded data removed]",
      "text/plain": [
       "<Figure size 1000x400 with 2 Axes>"
      ]
     },
     "metadata": {},
     "output_type": "display_data"
    }
   ],
   "source": [
    "\n",
    "keys = list(tracker1.keys())\n",
    "values = list(tracker1.values())\n",
    "\n",
    "fig, axs = plt.subplots(1, 2, figsize=(10, 4))\n",
    "\n",
    "axs[0].plot(list(tracker1.keys()), list(tracker1.values()), marker='o', linestyle='-')\n",
    "# axs[0].set_title('Average IoU Score v/s Threshold Using Test Da')\n",
    "axs[0].set_xlabel('Threshold')\n",
    "axs[0].set_ylabel('Avg. IoU Score')\n",
    "\n",
    "\n",
    "axs[1].plot(list(tracker1_1.keys()), list(tracker1_1.values()), marker='o', linestyle='-', color='green')\n",
    "# axs[1].set_title('Dictionary 2')\n",
    "axs[1].set_xlabel('Threshold (Zoom in Range 65-85)')\n",
    "axs[1].set_ylabel('Avg. IoU Score ')\n",
    "\n",
    "# title = plt.title('Average IoU Score v/s Threshold Using Test Data')\n",
    "# title.set_position([0.5, 1.05])\n",
    "fig.suptitle('Threshold v/s Average IoU Score on Test Images')\n",
    "\n",
    "plt.tight_layout()\n",
    "plt.show()"
   ]
  },
  {
   "cell_type": "code",
   "execution_count": 74,
   "id": "dd575f10-871b-421b-b338-552ade6e32d4",
   "metadata": {},
   "outputs": [
    {
     "name": "stdout",
     "output_type": "stream",
     "text": [
      "Threshold = 73 yieils maximum IoU score : 0.35409131108732306\n"
     ]
    }
   ],
   "source": [
    "max_key = max(tracker1_1, key=tracker1_1.get)\n",
    "\n",
    "print(f\"Threshold = {max_key} yieils maximum IoU score : {tracker1_1[max_key]}\")"
   ]
  },
  {
   "cell_type": "code",
   "execution_count": 90,
   "id": "7e84ef19-874b-4e47-a03b-253fc03797fe",
   "metadata": {},
   "outputs": [
    {
     "name": "stdout",
     "output_type": "stream",
     "text": [
      "--> Saving Image data/mask_preds/1/8.png...\n",
      "--> Saving Image data/mask_preds/1/9.png...\n",
      "--> Saving Image data/mask_preds/1/10.png...\n",
      "--> Saving Image data/mask_preds/1/4.png...\n",
      "--> Saving Image data/mask_preds/1/5.png...\n",
      "--> Saving Image data/mask_preds/1/7.png...\n",
      "--> Saving Image data/mask_preds/1/6.png...\n",
      "--> Saving Image data/mask_preds/1/2.png...\n",
      "--> Saving Image data/mask_preds/1/3.png...\n",
      "--> Saving Image data/mask_preds/1/1.png...\n",
      "--> Saving Image data/mask_preds/4/8.png...\n",
      "--> Saving Image data/mask_preds/4/9.png...\n",
      "--> Saving Image data/mask_preds/4/10.png...\n",
      "--> Saving Image data/mask_preds/4/4.png...\n",
      "--> Saving Image data/mask_preds/4/5.png...\n",
      "--> Saving Image data/mask_preds/4/7.png...\n",
      "--> Saving Image data/mask_preds/4/6.png...\n",
      "--> Saving Image data/mask_preds/4/2.png...\n",
      "--> Saving Image data/mask_preds/4/3.png...\n",
      "--> Saving Image data/mask_preds/4/1.png...\n",
      "--> Saving Image data/mask_preds/3/8.png...\n",
      "--> Saving Image data/mask_preds/3/9.png...\n",
      "--> Saving Image data/mask_preds/3/10.png...\n",
      "--> Saving Image data/mask_preds/3/4.png...\n",
      "--> Saving Image data/mask_preds/3/5.png...\n",
      "--> Saving Image data/mask_preds/3/7.png...\n",
      "--> Saving Image data/mask_preds/3/6.png...\n",
      "--> Saving Image data/mask_preds/3/2.png...\n",
      "--> Saving Image data/mask_preds/3/3.png...\n",
      "--> Saving Image data/mask_preds/3/1.png...\n",
      "--> Saving Image data/mask_preds/2/8.png...\n",
      "--> Saving Image data/mask_preds/2/9.png...\n",
      "--> Saving Image data/mask_preds/2/10.png...\n",
      "--> Saving Image data/mask_preds/2/4.png...\n",
      "--> Saving Image data/mask_preds/2/5.png...\n",
      "--> Saving Image data/mask_preds/2/7.png...\n",
      "--> Saving Image data/mask_preds/2/6.png...\n",
      "--> Saving Image data/mask_preds/2/2.png...\n",
      "--> Saving Image data/mask_preds/2/3.png...\n",
      "--> Saving Image data/mask_preds/2/1.png...\n"
     ]
    }
   ],
   "source": [
    "## save pred masks\n",
    "\n",
    "folder = 'data/test_preds'\n",
    "subdirs = [file for file in os.listdir(folder)]\n",
    "for subrdir in subdirs:\n",
    "    subdir_path = os.path.join(folder,subrdir) \n",
    "    if os.path.isdir(subdir_path):\n",
    "        for file in os.listdir(subdir_path):\n",
    "            if file.endswith(\".png\"):\n",
    "                file_path = os.path.join(subdir_path, file)\n",
    "                img_arr = get_masks(file_path,73)\n",
    "                dest_subdir = subdir_path.replace(\"test_preds\",\"mask_preds\")\n",
    "                if not os.path.exists(dest_subdir):\n",
    "                    os.makedirs(dest_subdir)\n",
    "                dest_path=os.path.join(dest_subdir,file)\n",
    "                img_scaled = (img_arr * 255).astype(np.uint8)\n",
    "                out_img = Image.fromarray(img_scaled)\n",
    "                print(f\"--> Saving Image {dest_path}...\")\n",
    "                out_img.save(dest_path)"
   ]
  }
 ],
 "metadata": {
  "kernelspec": {
   "display_name": "Python 3 (ipykernel)",
   "language": "python",
   "name": "python3"
  },
  "language_info": {
   "codemirror_mode": {
    "name": "ipython",
    "version": 3
   },
   "file_extension": ".py",
   "mimetype": "text/x-python",
   "name": "python",
   "nbconvert_exporter": "python",
   "pygments_lexer": "ipython3",
   "version": "3.11.0rc1"
  }
 },
 "nbformat": 4,
 "nbformat_minor": 5
}
